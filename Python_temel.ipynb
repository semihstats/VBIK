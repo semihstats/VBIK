{
 "cells": [
  {
   "cell_type": "markdown",
   "metadata": {
    "id": "IE1SkgLbM5yN"
   },
   "source": [
    "# 🐍 Python Programlama: Sıfırdan İleri Seviyeye\n",
    "\n",
    "## İçerik Tablosu\n",
    "\n",
    "1. [Temel Fonksiyonlar](#1-temel-fonksiyonlar)\n",
    "2. [Değişkenler ve Veri Tipleri](#2-degiskenler-ve-veri-tipleri)\n",
    "3. [Operatörler](#3-operatorler)\n",
    "4. [Koşullu İfadeler](#4-kosullu-ifadeler)\n",
    "5. [Basit Hesap Makinesi](#5-basit-hesap-makinesi)\n",
    "6. [Döngüler](#6-donguler)\n",
    "7. [Fonksiyon Yazımı](#7-fonksiyon-yazimi)\n",
    "8. [Modüller ve Kütüphaneler](#8-moduller-ve-kutuphaneler)\n",
    "\n",
    "\n",
    "---\n",
    "\n",
    "> Bu eğitim serisi, programlama dünyasına yeni adım atanlar için tasarlanmıştır. Her bölüm, uygulamalı örneklerle desteklenerek, Python'ın temellerinden ileri seviye konularına kadar kapsamlı bir öğrenme deneyimi sunmaktadır. Python'da yerleşik fonksiyonlar (built-in functions) üzerinden anlatım gerçekleştirilecektir.\n",
    "\n",
    "---\n"
   ]
  },
  {
   "cell_type": "markdown",
   "metadata": {
    "id": "dgaf6t3UM5yP"
   },
   "source": [
    "<a id=\"1-temel-fonksiyonlar\"></a>\n",
    "## 📌 1. Temel Fonksiyonlar\n",
    "\n",
    "- `print()` → Ekrana çıktı verme  \n",
    "- `type()` → Veri tipini öğrenme  \n",
    "- `len()` → Uzunluk hesaplama  \n",
    "- `input()` → Kullanıcıdan veri alma  "
   ]
  },
  {
   "cell_type": "code",
   "execution_count": 51,
   "metadata": {
    "colab": {
     "base_uri": "https://localhost:8080/"
    },
    "executionInfo": {
     "elapsed": 40,
     "status": "ok",
     "timestamp": 1741449916938,
     "user": {
      "displayName": "Semih Özdemir",
      "userId": "11849008402036696319"
     },
     "user_tz": -180
    },
    "id": "mFv0xInwM5yQ",
    "outputId": "d70d1498-0154-4e2b-8f3d-32f5659c35e2"
   },
   "outputs": [
    {
     "name": "stdout",
     "output_type": "stream",
     "text": [
      "Merhaba Python!\n"
     ]
    }
   ],
   "source": [
    "# 1. print() Fonksiyonu Örnekleri\n",
    "print(\"Merhaba Python!\")  # Basit çıktı"
   ]
  },
  {
   "cell_type": "code",
   "execution_count": 52,
   "metadata": {
    "colab": {
     "base_uri": "https://localhost:8080/"
    },
    "executionInfo": {
     "elapsed": 23,
     "status": "ok",
     "timestamp": 1741449916940,
     "user": {
      "displayName": "Semih Özdemir",
      "userId": "11849008402036696319"
     },
     "user_tz": -180
    },
    "id": "VbPEjmrR_ogD",
    "outputId": "161940ed-c9de-4a0c-bc80-68f28ff70a16"
   },
   "outputs": [
    {
     "name": "stdout",
     "output_type": "stream",
     "text": [
      "Merhaba Python!\n"
     ]
    }
   ],
   "source": [
    "# Yan yana birbirinden bağımsız iki ifade yazımı\n",
    "print(\"Merhaba\", \"Python!\")"
   ]
  },
  {
   "cell_type": "markdown",
   "metadata": {
    "id": "tL1DC_aC8vZP"
   },
   "source": [
    "Aşağıda bir değişken ataması gerçekleştirilmiştir. Değişken (Variable): Bir değeri saklamak için kullanılan bir sembolik isimdir. Değişkenler, program içinde verileri tutmak ve bu verilere kolayca erişmek için kullanılır."
   ]
  },
  {
   "cell_type": "code",
   "execution_count": 53,
   "metadata": {
    "colab": {
     "base_uri": "https://localhost:8080/"
    },
    "executionInfo": {
     "elapsed": 3,
     "status": "ok",
     "timestamp": 1741449916942,
     "user": {
      "displayName": "Semih Özdemir",
      "userId": "11849008402036696319"
     },
     "user_tz": -180
    },
    "id": "K-a4csktM5yR",
    "outputId": "e14b10e7-8356-4d14-f561-50d5713b5af2"
   },
   "outputs": [
    {
     "name": "stdout",
     "output_type": "stream",
     "text": [
      "Benim adım Ahmet ve 25 yaşındayım\n"
     ]
    }
   ],
   "source": [
    "# Değişkenlerle kullanım\n",
    "ad = \"Ahmet\"\n",
    "yas = 25\n",
    "print(\"Benim adım\", ad, \"ve\", yas, \"yaşındayım\")"
   ]
  },
  {
   "cell_type": "code",
   "execution_count": 54,
   "metadata": {
    "colab": {
     "base_uri": "https://localhost:8080/"
    },
    "executionInfo": {
     "elapsed": 7,
     "status": "ok",
     "timestamp": 1741449916967,
     "user": {
      "displayName": "Semih Özdemir",
      "userId": "11849008402036696319"
     },
     "user_tz": -180
    },
    "id": "wBekLBKMM5yR",
    "outputId": "bbc05d6c-b0dc-4dc7-d351-572e05c4a9b3"
   },
   "outputs": [
    {
     "name": "stdout",
     "output_type": "stream",
     "text": [
      "Benim adım Ahmet ve 25 yaşındayım\n"
     ]
    }
   ],
   "source": [
    "# f-string kullanımı\n",
    "print(f\"Benim adım {ad} ve {yas} yaşındayım\")"
   ]
  },
  {
   "cell_type": "code",
   "execution_count": 55,
   "metadata": {
    "colab": {
     "base_uri": "https://localhost:8080/"
    },
    "executionInfo": {
     "elapsed": 5,
     "status": "ok",
     "timestamp": 1741449916973,
     "user": {
      "displayName": "Semih Özdemir",
      "userId": "11849008402036696319"
     },
     "user_tz": -180
    },
    "id": "Hfw-wDKFM5yR",
    "outputId": "5ea117ce-3813-4644-a124-79fd28564076"
   },
   "outputs": [
    {
     "name": "stdout",
     "output_type": "stream",
     "text": [
      "sayi değişkeninin tipi: <class 'int'>\n",
      "ondalik değişkeninin tipi: <class 'float'>\n",
      "metin değişkeninin tipi: <class 'str'>\n",
      "liste değişkeninin tipi: <class 'list'>\n",
      "sozluk değişkeninin tipi: <class 'dict'>\n",
      "mantiksal değişkeninin tipi: <class 'bool'>\n"
     ]
    }
   ],
   "source": [
    "# 2. type() Fonksiyonu Örnekleri\n",
    "sayi = 42\n",
    "ondalik = 3.14\n",
    "metin = \"Python\"\n",
    "liste = [1, 2, 3]\n",
    "sozluk = {\"a\": 1, \"b\": 2}\n",
    "mantiksal = True\n",
    "\n",
    "print(f\"sayi değişkeninin tipi: {type(sayi)}\")\n",
    "print(f\"ondalik değişkeninin tipi: {type(ondalik)}\")\n",
    "print(f\"metin değişkeninin tipi: {type(metin)}\")\n",
    "print(f\"liste değişkeninin tipi: {type(liste)}\")\n",
    "print(f\"sozluk değişkeninin tipi: {type(sozluk)}\")\n",
    "print(f\"mantiksal değişkeninin tipi: {type(mantiksal)}\")"
   ]
  },
  {
   "cell_type": "code",
   "execution_count": 56,
   "metadata": {
    "colab": {
     "base_uri": "https://localhost:8080/"
    },
    "executionInfo": {
     "elapsed": 23,
     "status": "ok",
     "timestamp": 1741449916995,
     "user": {
      "displayName": "Semih Özdemir",
      "userId": "11849008402036696319"
     },
     "user_tz": -180
    },
    "id": "FwKgy1pqM5yS",
    "outputId": "a785020c-f3a3-4fc8-c952-929985116e17"
   },
   "outputs": [
    {
     "name": "stdout",
     "output_type": "stream",
     "text": [
      "Metin uzunluğu: 18\n",
      "Liste uzunluğu: 5\n",
      "Sözlük uzunluğu: 3\n",
      "Demet uzunluğu: 3\n"
     ]
    }
   ],
   "source": [
    "# 3. len() Fonksiyonu Örnekleri\n",
    "metin = \"Python Programlama\"\n",
    "liste = [1, 2, 3, 4, 5]\n",
    "sozluk = {\"a\": 1, \"b\": 2, \"c\": 3}\n",
    "demet = (1, 2, 3)\n",
    "\n",
    "print(f\"Metin uzunluğu: {len(metin)}\")\n",
    "print(f\"Liste uzunluğu: {len(liste)}\")\n",
    "print(f\"Sözlük uzunluğu: {len(sozluk)}\")\n",
    "print(f\"Demet uzunluğu: {len(demet)}\")\n"
   ]
  },
  {
   "cell_type": "code",
   "execution_count": 57,
   "metadata": {
    "colab": {
     "base_uri": "https://localhost:8080/"
    },
    "executionInfo": {
     "elapsed": 8087,
     "status": "ok",
     "timestamp": 1741449925087,
     "user": {
      "displayName": "Semih Özdemir",
      "userId": "11849008402036696319"
     },
     "user_tz": -180
    },
    "id": "7F1BM9GFM5yS",
    "outputId": "9a0238cf-81af-4591-ba18-6ba9e7990b1a"
   },
   "outputs": [
    {
     "name": "stdout",
     "output_type": "stream",
     "text": [
      "İsminizi girin: Semih\n",
      "Yaşınızı girin: 22\n",
      "Merhaba Semih, 22 yaşındasın!\n"
     ]
    }
   ],
   "source": [
    "# 4. input() Fonksiyonu Örnekleri\n",
    "isim = input(\"İsminizi girin: \")\n",
    "# input fonksiyonu ile alınan girdiler otomatik olarak str veri tipinde depolanır. Eğer alınan değer sayısal ise input fonksiyonundan önce ilgili veri tipi dönüşümü yapılmalıdır.\n",
    "yas = int(input(\"Yaşınızı girin: \"))  # String'i integer'a çevirme\n",
    "print(f\"Merhaba {isim}, {yas} yaşındasın!\")\n"
   ]
  },
  {
   "cell_type": "markdown",
   "metadata": {
    "id": "r1-ZeArTM5yT"
   },
   "source": [
    "<a id=\"2-degiskenler-ve-veri-tipleri\"></a>\n",
    "## 📌 2. Değişkenler ve Veri Tipleri\n",
    "- **Sayısal (Numeric) Tipler:** `int`, `float`, `complex`  \n",
    "- **Mantıksal (Boolean) Tipler:** `bool` → `True`, `False`  \n",
    "- **Dizisel (Sequence) Tipler:** `str`, `list`, `tuple`, `range`  \n",
    "- **Kümeler (Set) :** `set`  \n",
    "- **Eşleme (Mapping) Tipleri:** `dict`"
   ]
  },
  {
   "cell_type": "code",
   "execution_count": 58,
   "metadata": {
    "colab": {
     "base_uri": "https://localhost:8080/"
    },
    "executionInfo": {
     "elapsed": 16,
     "status": "ok",
     "timestamp": 1741449925105,
     "user": {
      "displayName": "Semih Özdemir",
      "userId": "11849008402036696319"
     },
     "user_tz": -180
    },
    "id": "wZf2rIfDM5yT",
    "outputId": "788680f0-f5c4-4483-e2ec-d4c7633a6be8"
   },
   "outputs": [
    {
     "name": "stdout",
     "output_type": "stream",
     "text": [
      "Integer örneği: 42, Tipi: <class 'int'>\n",
      "Float örneği: 3.14, Tipi: <class 'float'>\n",
      "Complex örneği: (2+3j), Tipi: <class 'complex'>\n"
     ]
    }
   ],
   "source": [
    "# === Sayısal (Numeric) Veri Tipleri ===\n",
    "\n",
    "# Integer (Tam Sayılar)\n",
    "tam_sayi = 42\n",
    "print(f\"Integer örneği: {tam_sayi}, Tipi: {type(tam_sayi)}\")\n",
    "\n",
    "# Float (Ondalıklı Sayılar)\n",
    "ondalikli_sayi = 3.14\n",
    "print(f\"Float örneği: {ondalikli_sayi}, Tipi: {type(ondalikli_sayi)}\")\n",
    "\n",
    "# Complex (Karmaşık Sayılar)\n",
    "karmasik_sayi = 2 + 3j\n",
    "print(f\"Complex örneği: {karmasik_sayi}, Tipi: {type(karmasik_sayi)}\")\n"
   ]
  },
  {
   "cell_type": "code",
   "execution_count": 59,
   "metadata": {
    "colab": {
     "base_uri": "https://localhost:8080/"
    },
    "executionInfo": {
     "elapsed": 15,
     "status": "ok",
     "timestamp": 1741449925121,
     "user": {
      "displayName": "Semih Özdemir",
      "userId": "11849008402036696319"
     },
     "user_tz": -180
    },
    "id": "UhZvoB9JM5yT",
    "outputId": "8649499b-2cac-47a9-86a2-197e5688e01f"
   },
   "outputs": [
    {
     "name": "stdout",
     "output_type": "stream",
     "text": [
      "Boolean örnekleri: True, False\n",
      "Boolean tipi: <class 'bool'>\n"
     ]
    }
   ],
   "source": [
    "# === Mantıksal (Boolean) Veri Tipi ===\n",
    "dogru = True\n",
    "yanlis = False\n",
    "print(f\"Boolean örnekleri: {dogru}, {yanlis}\")\n",
    "print(f\"Boolean tipi: {type(dogru)}\")"
   ]
  },
  {
   "cell_type": "code",
   "execution_count": 60,
   "metadata": {
    "colab": {
     "base_uri": "https://localhost:8080/"
    },
    "executionInfo": {
     "elapsed": 14,
     "status": "ok",
     "timestamp": 1741449925136,
     "user": {
      "displayName": "Semih Özdemir",
      "userId": "11849008402036696319"
     },
     "user_tz": -180
    },
    "id": "MyUK7Fk8M5yT",
    "outputId": "64f0beb5-c685-49b7-a430-2e482e274b73"
   },
   "outputs": [
    {
     "name": "stdout",
     "output_type": "stream",
     "text": [
      "String örneği: Python Programlama\n",
      "String tipi: <class 'str'>\n",
      "String indeksleme: P, a\n",
      "String dilimleme: Python\n",
      "\n",
      "Liste örneği: [1, 'Python', 3.14, True]\n",
      "Liste tipi: <class 'list'>\n",
      "Liste indeksleme: Python\n",
      "Listeye eleman ekleme: [1, 'Python', 3.14, True, 'Yeni Eleman']\n",
      "\n",
      "Demet örneği: (1, 'Python', 3.14, True)\n",
      "Demet tipi: <class 'tuple'>\n",
      "Demet indeksleme: Python\n",
      "\n",
      "Range örneği: [0, 1, 2, 3, 4]\n",
      "Range tipi: <class 'range'>\n"
     ]
    }
   ],
   "source": [
    "# === Dizisel (Sequence) Veri Tipleri ===\n",
    "\n",
    "# String (Metin)\n",
    "metin = \"Python Programlama\"\n",
    "print(f\"String örneği: {metin}\")\n",
    "print(f\"String tipi: {type(metin)}\")\n",
    "print(f\"String indeksleme: {metin[0]}, {metin[-1]}\")  # İlk ve son karakter\n",
    "print(f\"String dilimleme: {metin[0:6]}\")  # İlk 6 karakter\n",
    "\n",
    "# List (Liste)\n",
    "liste = [1, \"Python\", 3.14, True]\n",
    "print(f\"\\nListe örneği: {liste}\")\n",
    "print(f\"Liste tipi: {type(liste)}\")\n",
    "print(f\"Liste indeksleme: {liste[1]}\")\n",
    "liste.append(\"Yeni Eleman\")\n",
    "print(f\"Listeye eleman ekleme: {liste}\")\n",
    "\n",
    "# Tuple (Demet)\n",
    "demet = (1, \"Python\", 3.14, True)\n",
    "print(f\"\\nDemet örneği: {demet}\")\n",
    "print(f\"Demet tipi: {type(demet)}\")\n",
    "print(f\"Demet indeksleme: {demet[1]}\")\n",
    "# demet[0] = 2  # Hata verir çünkü demetler değiştirilemez\n",
    "\n",
    "# Range (Aralık)\n",
    "aralik = range(5)\n",
    "print(f\"\\nRange örneği: {list(aralik)}\")\n",
    "print(f\"Range tipi: {type(aralik)}\")"
   ]
  },
  {
   "cell_type": "code",
   "execution_count": 61,
   "metadata": {
    "colab": {
     "base_uri": "https://localhost:8080/"
    },
    "executionInfo": {
     "elapsed": 4,
     "status": "ok",
     "timestamp": 1741449925140,
     "user": {
      "displayName": "Semih Özdemir",
      "userId": "11849008402036696319"
     },
     "user_tz": -180
    },
    "id": "dAEeeR2LM5yU",
    "outputId": "5a24196e-27dc-4b01-b585-29b34646f0f1"
   },
   "outputs": [
    {
     "name": "stdout",
     "output_type": "stream",
     "text": [
      "Küme örneği: {1, 2, 3}\n",
      "Küme tipi: <class 'set'>\n",
      "Küme birleşimi: {1, 2, 3, 4, 5}\n",
      "Küme kesişimi: {3}\n"
     ]
    }
   ],
   "source": [
    "# === Küme (Set) Veri Tipi ===\n",
    "kume = {1, 2, 3, 3, 2, 1}  # Tekrar eden elemanlar otomatik silinir\n",
    "print(f\"Küme örneği: {kume}\")\n",
    "print(f\"Küme tipi: {type(kume)}\")\n",
    "\n",
    "# Küme işlemleri\n",
    "kume1 = {1, 2, 3}\n",
    "kume2 = {3, 4, 5}\n",
    "print(f\"Küme birleşimi: {kume1.union(kume2)}\")\n",
    "print(f\"Küme kesişimi: {kume1.intersection(kume2)}\")"
   ]
  },
  {
   "cell_type": "code",
   "execution_count": 62,
   "metadata": {
    "colab": {
     "base_uri": "https://localhost:8080/"
    },
    "executionInfo": {
     "elapsed": 29,
     "status": "ok",
     "timestamp": 1741449925170,
     "user": {
      "displayName": "Semih Özdemir",
      "userId": "11849008402036696319"
     },
     "user_tz": -180
    },
    "id": "ZT1UqqwjM5yU",
    "outputId": "70492c44-cdc0-478f-e51a-26079ee111fe"
   },
   "outputs": [
    {
     "name": "stdout",
     "output_type": "stream",
     "text": [
      "Sözlük örneği: {'ad': 'Python', 'yil': 1991, 'gelistirici': 'Guido van Rossum', 'versiyonlar': [2.7, 3.6, 3.7, 3.8, 3.9]}\n",
      "Sözlük tipi: <class 'dict'>\n",
      "Sözlük değer erişimi: Python\n",
      "Sözlük metodu ile erişim: 1991\n",
      "Sözlüğe eleman ekleme: {'ad': 'Python', 'yil': 1991, 'gelistirici': 'Guido van Rossum', 'versiyonlar': [2.7, 3.6, 3.7, 3.8, 3.9], 'yeni_anahtar': 'yeni değer'}\n"
     ]
    }
   ],
   "source": [
    "# === Eşleme (Mapping) Veri Tipi ===\n",
    "sozluk = {\n",
    "    \"ad\": \"Python\",\n",
    "    \"yil\": 1991,\n",
    "    \"gelistirici\": \"Guido van Rossum\",\n",
    "    \"versiyonlar\": [2.7, 3.6, 3.7, 3.8, 3.9]\n",
    "}\n",
    "print(f\"Sözlük örneği: {sozluk}\")\n",
    "print(f\"Sözlük tipi: {type(sozluk)}\")\n",
    "print(f\"Sözlük değer erişimi: {sozluk['ad']}\")\n",
    "print(f\"Sözlük metodu ile erişim: {sozluk.get('yil')}\")\n",
    "\n",
    "# Sözlük işlemleri\n",
    "sozluk[\"yeni_anahtar\"] = \"yeni değer\"\n",
    "print(f\"Sözlüğe eleman ekleme: {sozluk}\")"
   ]
  },
  {
   "cell_type": "code",
   "execution_count": 63,
   "metadata": {
    "colab": {
     "base_uri": "https://localhost:8080/"
    },
    "executionInfo": {
     "elapsed": 14,
     "status": "ok",
     "timestamp": 1741449925185,
     "user": {
      "displayName": "Semih Özdemir",
      "userId": "11849008402036696319"
     },
     "user_tz": -180
    },
    "id": "GTYP8Q5wM5yU",
    "outputId": "f5f0f11e-1a4f-4dcd-e8b6-5d1ac12dd58d"
   },
   "outputs": [
    {
     "name": "stdout",
     "output_type": "stream",
     "text": [
      "String to Int: 42, Tipi: <class 'int'>\n",
      "Int to Float: 42.0, Tipi: <class 'float'>\n",
      "String to List: ['P', 'y', 't', 'h', 'o', 'n'], Tipi: <class 'list'>\n",
      "List to Set: {1, 2, 3, 4}, Tipi: <class 'set'>\n"
     ]
    }
   ],
   "source": [
    "# === Tip Dönüşümleri ===\n",
    "# String -> Int\n",
    "sayi_str = \"42\"\n",
    "sayi_int = int(sayi_str)\n",
    "print(f\"String to Int: {sayi_int}, Tipi: {type(sayi_int)}\")\n",
    "\n",
    "# Int -> Float\n",
    "float_sayi = float(sayi_int)\n",
    "print(f\"Int to Float: {float_sayi}, Tipi: {type(float_sayi)}\")\n",
    "\n",
    "# String -> List\n",
    "metin = \"Python\"\n",
    "metin_liste = list(metin)\n",
    "print(f\"String to List: {metin_liste}, Tipi: {type(metin_liste)}\")\n",
    "\n",
    "# List -> Set\n",
    "liste_kume = set([1, 2, 2, 3, 3, 4])\n",
    "print(f\"List to Set: {liste_kume}, Tipi: {type(liste_kume)}\")"
   ]
  },
  {
   "cell_type": "markdown",
   "metadata": {
    "id": "5tuIF79GM5yU"
   },
   "source": [
    "<a id=\"3-operatorler\"></a>\n",
    "## 📌 3. Operatörler\n",
    "- **Aritmetik Operatörler:** `+`, `-`, `*`, `/`, `//`, `%`, `**`  \n",
    "- **Karşılaştırma Operatörleri:** `==`, `!=`, `<`, `>`, `<=`, `>=`  \n",
    "- **Mantıksal Operatörler:** `and`, `or`, `not`  \n",
    "- **Atama Operatörleri:** `=`, `+=`, `-=`, `*=`, `/=`  "
   ]
  },
  {
   "cell_type": "code",
   "execution_count": 64,
   "metadata": {
    "colab": {
     "base_uri": "https://localhost:8080/"
    },
    "executionInfo": {
     "elapsed": 21,
     "status": "ok",
     "timestamp": 1741449925207,
     "user": {
      "displayName": "Semih Özdemir",
      "userId": "11849008402036696319"
     },
     "user_tz": -180
    },
    "id": "J83aSSU5M5yU",
    "outputId": "f5ca83af-3f2b-45a3-8e89-3a98475ebf75"
   },
   "outputs": [
    {
     "name": "stdout",
     "output_type": "stream",
     "text": [
      "9\n",
      "3\n",
      "18\n",
      "2.0\n",
      "2\n",
      "0\n",
      "216\n"
     ]
    }
   ],
   "source": [
    "# Aritmatik operatörler:\n",
    "print(6+3) # Toplama\n",
    "print(6-3) # Çıkarma\n",
    "print(6*3) # Çarpma\n",
    "print(6/3) # Bölme (Ondalıklı)\n",
    "print(6//3) # Tam bölme (Tam sayı sonuçlu)\n",
    "print(6%3) # Mod (Kalan)\n",
    "print(6**3) # Üs alma"
   ]
  },
  {
   "cell_type": "code",
   "execution_count": 65,
   "metadata": {
    "colab": {
     "base_uri": "https://localhost:8080/"
    },
    "executionInfo": {
     "elapsed": 18,
     "status": "ok",
     "timestamp": 1741449925208,
     "user": {
      "displayName": "Semih Özdemir",
      "userId": "11849008402036696319"
     },
     "user_tz": -180
    },
    "id": "1dPT8_RXM5yV",
    "outputId": "dadadadd-7378-42bd-9d72-be9687044a4b"
   },
   "outputs": [
    {
     "name": "stdout",
     "output_type": "stream",
     "text": [
      "5 eşit 3: False\n",
      "5 eşit 5: True\n",
      "5 eşit değil 3: True\n",
      "5 eşit değil 5: False\n",
      "5 büyüktür 3: True\n",
      "5 büyük eşit 3: True\n",
      "5 küçüktür 3: False\n",
      "5 küçük eşit 3: False\n"
     ]
    }
   ],
   "source": [
    "# Karşılaştırma Operatörleri:\n",
    "print(f\"5 eşit 3: {5==3}\")\n",
    "print(f\"5 eşit 5: {5==5}\")\n",
    "print(f\"5 eşit değil 3: {5!=3}\")\n",
    "print(f\"5 eşit değil 5: {5!=5}\")\n",
    "print(f\"5 büyüktür 3: {5>3}\")\n",
    "print(f\"5 büyük eşit 3: {5>=3}\")\n",
    "print(f\"5 küçüktür 3: {5<3}\")\n",
    "print(f\"5 küçük eşit 3: {5<=3}\")\n"
   ]
  },
  {
   "cell_type": "code",
   "execution_count": 66,
   "metadata": {
    "colab": {
     "base_uri": "https://localhost:8080/"
    },
    "executionInfo": {
     "elapsed": 16,
     "status": "ok",
     "timestamp": 1741449925208,
     "user": {
      "displayName": "Semih Özdemir",
      "userId": "11849008402036696319"
     },
     "user_tz": -180
    },
    "id": "BIhALVmwM5yV",
    "outputId": "f9fbe8b4-2874-4834-a59b-d6b06e7e830c"
   },
   "outputs": [
    {
     "name": "stdout",
     "output_type": "stream",
     "text": [
      "5 büyüktür 3 ve True eşittir False: False\n",
      "5 büyüktür 3 ve True eşit değildir False: True\n",
      "5 büyüktür 3 veya True eşittir False: False\n",
      "5 büyüktür 3 veya True eşit değildir False: True\n"
     ]
    }
   ],
   "source": [
    "# Mantıksal operatörler:\n",
    "print(f\"5 büyüktür 3 ve True eşittir False: {5>3 and True == False}\")\n",
    "print(f\"5 büyüktür 3 ve True eşit değildir False: {5>3 and True != False}\")\n",
    "print(f\"5 büyüktür 3 veya True eşittir False: {5>3 and True == False}\")\n",
    "print(f\"5 büyüktür 3 veya True eşit değildir False: {5>3 and True != False}\")\n"
   ]
  },
  {
   "cell_type": "code",
   "execution_count": 67,
   "metadata": {
    "colab": {
     "base_uri": "https://localhost:8080/"
    },
    "executionInfo": {
     "elapsed": 25,
     "status": "ok",
     "timestamp": 1741449925233,
     "user": {
      "displayName": "Semih Özdemir",
      "userId": "11849008402036696319"
     },
     "user_tz": -180
    },
    "id": "GuVgO_dqM5yV",
    "outputId": "f8de46ed-e96d-49fc-e2e7-10863a6777c4"
   },
   "outputs": [
    {
     "name": "stdout",
     "output_type": "stream",
     "text": [
      "a+b işlemi yapıldı\n",
      "a değeri: 8\n",
      "a-b işlemi yapıldı\n",
      "a değeri: 5\n",
      "a*b işlemi yapıldı\n",
      "a değeri: 15\n",
      "a//b işlemi yapıldı\n",
      "a değeri: 5\n"
     ]
    }
   ],
   "source": [
    "a = 5\n",
    "b = 3\n",
    "print(\"a+b işlemi yapıldı\")\n",
    "a += b\n",
    "print(f\"a değeri: {a}\")\n",
    "print(\"a-b işlemi yapıldı\")\n",
    "a -= b\n",
    "print(f\"a değeri: {a}\")\n",
    "print(\"a*b işlemi yapıldı\")\n",
    "a *= b\n",
    "print(f\"a değeri: {a}\")\n",
    "print(\"a//b işlemi yapıldı\")\n",
    "a //= b\n",
    "print(f\"a değeri: {a}\")"
   ]
  },
  {
   "cell_type": "markdown",
   "metadata": {
    "id": "FYxB3YnpM5yV"
   },
   "source": [
    "<a id=\"4-kosullu-ifadeler\"></a>\n",
    "## 📌 4. Koşullu İfadeler\n",
    "- **Koşul yapıları:** `if`, `elif`, `else`  \n",
    "  - `if` → Eğer koşul doğruysa kodu çalıştır  \n",
    "  - `elif` → İlk koşul yanlışsa, bu koşulu dene  \n",
    "  - `else` → Hiçbiri doğru değilse bunu çalıştır"
   ]
  },
  {
   "cell_type": "code",
   "execution_count": 68,
   "metadata": {
    "colab": {
     "base_uri": "https://localhost:8080/"
    },
    "executionInfo": {
     "elapsed": 14,
     "status": "ok",
     "timestamp": 1741449925242,
     "user": {
      "displayName": "Semih Özdemir",
      "userId": "11849008402036696319"
     },
     "user_tz": -180
    },
    "id": "Jao_dkiiM5yV",
    "outputId": "6b3fd049-3fa7-4208-c657-e0a2409b2637"
   },
   "outputs": [
    {
     "name": "stdout",
     "output_type": "stream",
     "text": [
      "Reşitsiniz\n"
     ]
    }
   ],
   "source": [
    "# 1. Basit if kullanımı\n",
    "yas = 18\n",
    "if yas >= 18:\n",
    "    print(\"Reşitsiniz\")"
   ]
  },
  {
   "cell_type": "code",
   "execution_count": 69,
   "metadata": {
    "colab": {
     "base_uri": "https://localhost:8080/"
    },
    "executionInfo": {
     "elapsed": 2991,
     "status": "ok",
     "timestamp": 1741449928233,
     "user": {
      "displayName": "Semih Özdemir",
      "userId": "11849008402036696319"
     },
     "user_tz": -180
    },
    "id": "rnKelOYwM5yV",
    "outputId": "fd927d96-e302-4fdd-97dc-c44319ae3248"
   },
   "outputs": [
    {
     "name": "stdout",
     "output_type": "stream",
     "text": [
      "yaşınızı giriniz:22\n",
      "Reşitsiniz\n"
     ]
    }
   ],
   "source": [
    "# 1. Basit if kullanımı\n",
    "yas = int(input(\"yaşınızı giriniz:\"))\n",
    "if yas >= 18:\n",
    "    print(\"Reşitsiniz\")"
   ]
  },
  {
   "cell_type": "code",
   "execution_count": 70,
   "metadata": {
    "colab": {
     "base_uri": "https://localhost:8080/"
    },
    "executionInfo": {
     "elapsed": 5,
     "status": "ok",
     "timestamp": 1741449928237,
     "user": {
      "displayName": "Semih Özdemir",
      "userId": "11849008402036696319"
     },
     "user_tz": -180
    },
    "id": "04bDojtKM5yV",
    "outputId": "6ceade64-7397-43ed-a761-a79e8a6dda11"
   },
   "outputs": [
    {
     "name": "stdout",
     "output_type": "stream",
     "text": [
      "Dersten geçtiniz\n"
     ]
    }
   ],
   "source": [
    "# 2. if-else kullanımı\n",
    "not_ortalamasi = 65\n",
    "if not_ortalamasi >= 60:\n",
    "    print(\"Dersten geçtiniz\")\n",
    "else:\n",
    "    print(\"Dersten kaldınız\")"
   ]
  },
  {
   "cell_type": "code",
   "execution_count": 71,
   "metadata": {
    "colab": {
     "base_uri": "https://localhost:8080/"
    },
    "executionInfo": {
     "elapsed": 12319,
     "status": "ok",
     "timestamp": 1741449940557,
     "user": {
      "displayName": "Semih Özdemir",
      "userId": "11849008402036696319"
     },
     "user_tz": -180
    },
    "id": "SoA7-xGdM5yV",
    "outputId": "3c5499ef-566d-4e7a-af5e-ffa84eb1e12a"
   },
   "outputs": [
    {
     "name": "stdout",
     "output_type": "stream",
     "text": [
      "Not ortalamanızı giriniz: 70\n",
      "Dersten geçtiniz\n"
     ]
    }
   ],
   "source": [
    "# 2. if-else kullanımı\n",
    "not_ortalamasi = int(input(\"Not ortalamanızı giriniz: \"))\n",
    "if not_ortalamasi >= 60:\n",
    "    print(\"Dersten geçtiniz\")\n",
    "else:\n",
    "    print(\"Dersten kaldınız\")"
   ]
  },
  {
   "cell_type": "code",
   "execution_count": 72,
   "metadata": {
    "colab": {
     "base_uri": "https://localhost:8080/"
    },
    "executionInfo": {
     "elapsed": 5,
     "status": "ok",
     "timestamp": 1741449940583,
     "user": {
      "displayName": "Semih Özdemir",
      "userId": "11849008402036696319"
     },
     "user_tz": -180
    },
    "id": "WOUs6hfiM5yV",
    "outputId": "3e2410ba-db69-4ff3-d609-6d657d837029"
   },
   "outputs": [
    {
     "name": "stdout",
     "output_type": "stream",
     "text": [
      "Hava sıcak\n"
     ]
    }
   ],
   "source": [
    "# 3. if-elif-else kullanımı\n",
    "sicaklik = 25\n",
    "if sicaklik < 10:\n",
    "    print(\"Hava soğuk\")\n",
    "elif sicaklik < 20:\n",
    "    print(\"Hava ılık\")\n",
    "elif sicaklik < 30:\n",
    "    print(\"Hava sıcak\")\n",
    "else:\n",
    "    print(\"Hava çok sıcak\")"
   ]
  },
  {
   "cell_type": "code",
   "execution_count": 73,
   "metadata": {
    "colab": {
     "base_uri": "https://localhost:8080/"
    },
    "executionInfo": {
     "elapsed": 57,
     "status": "ok",
     "timestamp": 1741449940641,
     "user": {
      "displayName": "Semih Özdemir",
      "userId": "11849008402036696319"
     },
     "user_tz": -180
    },
    "id": "inynkJn2M5yV",
    "outputId": "0d4eba06-9467-418f-8a55-b48b0faeacb9"
   },
   "outputs": [
    {
     "name": "stdout",
     "output_type": "stream",
     "text": [
      "Hava sıcak\n"
     ]
    }
   ],
   "source": [
    "# 3. if-elif-else kullanımı\n",
    "sicaklik = 25\n",
    "if sicaklik < 10:\n",
    "    print(\"Hava soğuk\")\n",
    "elif sicaklik < 20:\n",
    "    print(\"Hava ılık\")\n",
    "elif sicaklik < 30:\n",
    "    print(\"Hava sıcak\")\n",
    "else:\n",
    "    print(\"Hava çok sıcak\")"
   ]
  },
  {
   "cell_type": "markdown",
   "metadata": {
    "id": "8A1TU1RJM5yW"
   },
   "source": [
    "İç içe (nested if-else) kullanılabilir ama önerilmez. İç içe koşul ifadeleri kullanmamak kodu daha okunaklı kılar ve kodun bir değişikliğe ihtiyacı olduğunda bakımı kolaylaştırır. Bu durumdandan kaçınmak için and, or ifadeleri kullanılabilir. Buna ek olarak Match-Case ve Guard Clauses yapıları da çözüm sunar."
   ]
  },
  {
   "cell_type": "markdown",
   "metadata": {
    "id": "T18yznHVM5yU"
   },
   "source": [
    "<a id=\"5-basit-hesap-makinesi\"></a>\n",
    "## 📌 5. Basit Hesap Makinesi\n",
    "- **Temel İşlemler:** `+`, `-`, `*`, `/`\n",
    "- `input()` fonksiyonu ile kullanıcıdan sayı alma\n",
    "- `float()` ile string'den sayıya dönüştürme\n",
    "- Koşullu ifadelerle işlem seçimi\n",
    "- Hata kontrolü ve sıfıra bölme durumu"
   ]
  },
  {
   "cell_type": "code",
   "execution_count": 74,
   "metadata": {
    "colab": {
     "base_uri": "https://localhost:8080/"
    },
    "executionInfo": {
     "elapsed": 8953,
     "status": "ok",
     "timestamp": 1741449949595,
     "user": {
      "displayName": "Semih Özdemir",
      "userId": "11849008402036696319"
     },
     "user_tz": -180
    },
    "id": "60elemVBM5yU",
    "outputId": "169f741e-0d60-424f-d9e0-762a2d22e676"
   },
   "outputs": [
    {
     "name": "stdout",
     "output_type": "stream",
     "text": [
      "Birinci sayıyı girin: 5\n",
      "İşlemi girin (+, -, *, /): +\n",
      "İkinci sayıyı girin: 6\n",
      "Sonuç: 11.0\n"
     ]
    }
   ],
   "source": [
    "sayi1 = float(input(\"Birinci sayıyı girin: \"))\n",
    "islem = input(\"İşlemi girin (+, -, *, /): \")\n",
    "sayi2 = float(input(\"İkinci sayıyı girin: \"))\n",
    "\n",
    "if islem == '+':\n",
    "    sonuc = sayi1 + sayi2\n",
    "elif islem == '-':\n",
    "    sonuc = sayi1 - sayi2\n",
    "elif islem == '*':\n",
    "    sonuc = sayi1 * sayi2\n",
    "elif islem == '/':\n",
    "    sonuc = sayi1 / sayi2 if sayi2 != 0 else \"Sıfıra bölme hatası!\"\n",
    "else:\n",
    "    sonuc = \"Geçersiz işlem!\"\n",
    "\n",
    "print(f\"Sonuç: {sonuc}\")"
   ]
  },
  {
   "cell_type": "markdown",
   "metadata": {
    "id": "GpThP0K9M5yU"
   },
   "source": [
    "#### Daha kullanışlı ve gelişmiş bir hesap makinesi yapmak için decorators (*args, **kwargs) ve try-except kullanılabilir."
   ]
  },
  {
   "cell_type": "markdown",
   "metadata": {
    "id": "GtKQ1J-QM5yW"
   },
   "source": [
    "<a id=\"6-donguler\"></a>\n",
    "## 📌 6. Döngüler\n",
    "\n",
    "Python'da döngüler, kod bloklarını tekrar tekrar çalıştırmak için kullanılır. İki temel döngü türü vardır:\n",
    "\n",
    "### 1. For Döngüsü\n",
    "- Liste, tuple, string gibi veri yapıları üzerinde dolaşmak için kullanılır\n",
    "- `range()` fonksiyonu ile sayı aralığında döngü oluşturulabilir\n",
    "- `for eleman in koleksiyon:`\n",
    "\n",
    "### 2. While Döngüsü\n",
    "- Belirli bir koşul sağlandığı sürece çalışır\n",
    "- Koşul yanlış olduğunda döngü sonlanır\n",
    "- `while kosul:`\n",
    "\n",
    "### 3. Döngü Kontrol İfadeleri\n",
    "- `break`: Döngüyü anında sonlandırır\n",
    "- `continue`: O anki adımı atlayıp döngüye devam eder\n",
    "- `pass`: Hiçbir şey yapmadan devam eder\n",
    "\n",
    "> **İpucu:** Sonsuz döngüye girmemek için while döngüsünde sayaç kullanmayı unutmayın!"
   ]
  },
  {
   "cell_type": "code",
   "execution_count": 75,
   "metadata": {
    "colab": {
     "base_uri": "https://localhost:8080/"
    },
    "executionInfo": {
     "elapsed": 50,
     "status": "ok",
     "timestamp": 1741449949643,
     "user": {
      "displayName": "Semih Özdemir",
      "userId": "11849008402036696319"
     },
     "user_tz": -180
    },
    "id": "lFh5Bk6IM5yW",
    "outputId": "cf67f1e0-8eda-4ae4-e383-37e2881f8c7a"
   },
   "outputs": [
    {
     "name": "stdout",
     "output_type": "stream",
     "text": [
      "Meyve: elma\n",
      "Meyve: armut\n",
      "Meyve: muz\n",
      "Sayı: 0\n",
      "Sayı: 1\n",
      "Sayı: 2\n"
     ]
    }
   ],
   "source": [
    "# === Döngüler Örneği ===\n",
    "# 1. For Döngüsü\n",
    "# Liste üzerinde döngü\n",
    "meyveler = [\"elma\", \"armut\", \"muz\"]\n",
    "for meyve in meyveler:\n",
    "    print(f\"Meyve: {meyve}\")\n",
    "\n",
    "# Range ile döngü\n",
    "for i in range(3):\n",
    "    print(f\"Sayı: {i}\")"
   ]
  },
  {
   "cell_type": "code",
   "execution_count": 76,
   "metadata": {
    "colab": {
     "base_uri": "https://localhost:8080/"
    },
    "executionInfo": {
     "elapsed": 27,
     "status": "ok",
     "timestamp": 1741449949644,
     "user": {
      "displayName": "Semih Özdemir",
      "userId": "11849008402036696319"
     },
     "user_tz": -180
    },
    "id": "65iwbodDM5yW",
    "outputId": "56d64fe1-2346-486f-d86e-64218ef68dba"
   },
   "outputs": [
    {
     "name": "stdout",
     "output_type": "stream",
     "text": [
      "Sayaç: 0\n",
      "Sayaç: 1\n",
      "Sayaç: 2\n"
     ]
    }
   ],
   "source": [
    "# 2. While Döngüsü\n",
    "sayac = 0\n",
    "while sayac < 3:\n",
    "    print(f\"Sayaç: {sayac}\")\n",
    "    sayac += 1"
   ]
  },
  {
   "cell_type": "code",
   "execution_count": 77,
   "metadata": {
    "colab": {
     "base_uri": "https://localhost:8080/"
    },
    "executionInfo": {
     "elapsed": 7,
     "status": "ok",
     "timestamp": 1741449949645,
     "user": {
      "displayName": "Semih Özdemir",
      "userId": "11849008402036696319"
     },
     "user_tz": -180
    },
    "id": "ZgS_a5BeM5yW",
    "outputId": "862b3bda-1ad4-4559-fe82-2e15e97fba89"
   },
   "outputs": [
    {
     "name": "stdout",
     "output_type": "stream",
     "text": [
      "0\n",
      "1\n",
      "2\n"
     ]
    }
   ],
   "source": [
    "# 3. Break Kullanımı\n",
    "for i in range(5):\n",
    "    if i == 3:\n",
    "        break  # Döngüyü sonlandır\n",
    "    print(i)\n"
   ]
  },
  {
   "cell_type": "code",
   "execution_count": 78,
   "metadata": {
    "colab": {
     "base_uri": "https://localhost:8080/"
    },
    "executionInfo": {
     "elapsed": 4,
     "status": "ok",
     "timestamp": 1741449949645,
     "user": {
      "displayName": "Semih Özdemir",
      "userId": "11849008402036696319"
     },
     "user_tz": -180
    },
    "id": "Bc9hRyR3M5yW",
    "outputId": "ca8c347b-7e69-4632-b094-240677f3f345"
   },
   "outputs": [
    {
     "name": "stdout",
     "output_type": "stream",
     "text": [
      "1\n",
      "3\n"
     ]
    }
   ],
   "source": [
    "# 4. Continue Kullanımı\n",
    "for i in range(5):\n",
    "    if i % 2 == 0:\n",
    "        continue  # Bu turu atla, bir sonraki tura geç\n",
    "    print(i)"
   ]
  },
  {
   "cell_type": "code",
   "execution_count": 79,
   "metadata": {
    "colab": {
     "base_uri": "https://localhost:8080/"
    },
    "executionInfo": {
     "elapsed": 6,
     "status": "ok",
     "timestamp": 1741449949664,
     "user": {
      "displayName": "Semih Özdemir",
      "userId": "11849008402036696319"
     },
     "user_tz": -180
    },
    "id": "tk-5EyK9MYhE",
    "outputId": "d560634a-7064-47b0-f358-9bc8951dde41"
   },
   "outputs": [
    {
     "name": "stdout",
     "output_type": "stream",
     "text": [
      "Hello\n"
     ]
    }
   ],
   "source": [
    "# 5. pass Kullanımı(Kodun yapısını bozmadan geçilmesini sağlar) yer tutucudur (placeholder)\n",
    "#for i in range(5):\n",
    "\n",
    "print(\"Hello\")"
   ]
  },
  {
   "cell_type": "code",
   "execution_count": 80,
   "metadata": {
    "colab": {
     "base_uri": "https://localhost:8080/"
    },
    "executionInfo": {
     "elapsed": 4,
     "status": "ok",
     "timestamp": 1741449949669,
     "user": {
      "displayName": "Semih Özdemir",
      "userId": "11849008402036696319"
     },
     "user_tz": -180
    },
    "id": "qC_4pvWAMM8F",
    "outputId": "588b8743-7579-4e98-9e07-7e561cd52ab8"
   },
   "outputs": [
    {
     "name": "stdout",
     "output_type": "stream",
     "text": [
      "Hello\n"
     ]
    }
   ],
   "source": [
    "for i in range(5):\n",
    "  pass\n",
    "print(\"Hello\")"
   ]
  },
  {
   "cell_type": "markdown",
   "metadata": {
    "id": "-2NxGVYMM5yW"
   },
   "source": [
    "<a id=\"7-fonksiyon-yazimi\"></a>\n",
    "## 📌 7. Fonksiyon Yazımı\n",
    "\n",
    "Python'da fonksiyonlar, kod tekrarını önlemek ve programı modüler hale getirmek için kullanılır.\n",
    "\n",
    "### 1. Temel Fonksiyon Yapısı\n",
    "- `def` anahtar kelimesi ile tanımlanır\n",
    "- Fonksiyon adı ve parantezler gereklidir\n",
    "- `def fonksiyon_adi():`\n",
    "\n",
    "### 2. Parametre Çeşitleri\n",
    "- **Parametresiz:** `def selamla()`\n",
    "- **Parametreli:** `def selamla(ad)`\n",
    "- **Varsayılan değerli:** `def selamla(ad=\"Misafir\")`\n",
    "\n",
    "### 3. Return İfadesi\n",
    "- Fonksiyondan değer döndürmek için kullanılır\n",
    "- Birden fazla değer döndürebilir\n",
    "- Return ile fonksiyon sonlanır\n",
    "- `return deger`\n",
    "\n",
    "### 4. Fonksiyon Özellikleri\n",
    "- Anlaşılır ve açıklayıcı isimler kullanın\n",
    "- Her fonksiyon tek bir görev yapmalı\n",
    "- Fonksiyonlar birbirini çağırabilir\n",
    "\n",
    "> **İpucu:** Fonksiyonlarınızı mümkün olduğunca sade ve anlaşılır tutun!"
   ]
  },
  {
   "cell_type": "code",
   "execution_count": 81,
   "metadata": {
    "colab": {
     "base_uri": "https://localhost:8080/"
    },
    "executionInfo": {
     "elapsed": 50,
     "status": "ok",
     "timestamp": 1741449949720,
     "user": {
      "displayName": "Semih Özdemir",
      "userId": "11849008402036696319"
     },
     "user_tz": -180
    },
    "id": "BF7ANIMNM5yW",
    "outputId": "dfe0805a-b1e5-45ad-f3ef-b43f8dfb7125"
   },
   "outputs": [
    {
     "name": "stdout",
     "output_type": "stream",
     "text": [
      "Merhaba!\n"
     ]
    }
   ],
   "source": [
    "# === Fonksiyon Örnekleri ===\n",
    "\n",
    "# 1. Basit Fonksiyon\n",
    "def selamla():\n",
    "    print(\"Merhaba!\")\n",
    "\n",
    "selamla()"
   ]
  },
  {
   "cell_type": "code",
   "execution_count": 82,
   "metadata": {
    "colab": {
     "base_uri": "https://localhost:8080/"
    },
    "executionInfo": {
     "elapsed": 15,
     "status": "ok",
     "timestamp": 1741449949721,
     "user": {
      "displayName": "Semih Özdemir",
      "userId": "11849008402036696319"
     },
     "user_tz": -180
    },
    "id": "D1iooVgOM5yW",
    "outputId": "77721aab-39d3-4697-e64a-5fcb11638ebf"
   },
   "outputs": [
    {
     "name": "stdout",
     "output_type": "stream",
     "text": [
      "Merhaba Ahmet!\n",
      "Merhaba Ahmet!\n"
     ]
    }
   ],
   "source": [
    "# 2. Parametreli Fonksiyon\n",
    "def kisi_selamla(ad):\n",
    "    print(f\"Merhaba {ad}!\")\n",
    "\n",
    "kisi_selamla(\"Ahmet\")\n",
    "kisi_selamla(ad = \"Ahmet\")"
   ]
  },
  {
   "cell_type": "code",
   "execution_count": 83,
   "metadata": {
    "executionInfo": {
     "elapsed": 13,
     "status": "ok",
     "timestamp": 1741449949722,
     "user": {
      "displayName": "Semih Özdemir",
      "userId": "11849008402036696319"
     },
     "user_tz": -180
    },
    "id": "qRX2iBPOM5ya"
   },
   "outputs": [],
   "source": [
    "# Yukarıdaki örneği kullanıcıdan girdi alarak yazmaya çalışın."
   ]
  },
  {
   "cell_type": "code",
   "execution_count": 84,
   "metadata": {
    "colab": {
     "base_uri": "https://localhost:8080/"
    },
    "executionInfo": {
     "elapsed": 13,
     "status": "ok",
     "timestamp": 1741449949723,
     "user": {
      "displayName": "Semih Özdemir",
      "userId": "11849008402036696319"
     },
     "user_tz": -180
    },
    "id": "dvn0_SJYM5ya",
    "outputId": "959d2262-7c53-4de0-8aa1-e2db87f537c0"
   },
   "outputs": [
    {
     "name": "stdout",
     "output_type": "stream",
     "text": [
      "Ad: Ayşe, Yaş: 20\n",
      "Ad: Mehmet, Yaş: 25\n"
     ]
    }
   ],
   "source": [
    "# 3. Varsayılan Parametreli Fonksiyon\n",
    "def bilgi_goster(ad, yas=20):\n",
    "    print(f\"Ad: {ad}, Yaş: {yas}\")\n",
    "\n",
    "bilgi_goster(\"Ayşe\")        # Varsayılan yaş kullanılır\n",
    "bilgi_goster(\"Mehmet\", 25)  # Yeni yaş değeri kullanılır"
   ]
  },
  {
   "cell_type": "code",
   "execution_count": 85,
   "metadata": {
    "colab": {
     "base_uri": "https://localhost:8080/"
    },
    "executionInfo": {
     "elapsed": 9,
     "status": "ok",
     "timestamp": 1741449949723,
     "user": {
      "displayName": "Semih Özdemir",
      "userId": "11849008402036696319"
     },
     "user_tz": -180
    },
    "id": "slutUcDZM5ya",
    "outputId": "21c4dbf9-9942-4fb3-f5db-d4fd884bfd2f"
   },
   "outputs": [
    {
     "name": "stdout",
     "output_type": "stream",
     "text": [
      "Toplam: 8\n"
     ]
    }
   ],
   "source": [
    "# 4. Return Kullanan Fonksiyon\n",
    "def topla(a, b):\n",
    "    return a + b\n",
    "\n",
    "sonuc = topla(5, 3)\n",
    "print(f\"Toplam: {sonuc}\")"
   ]
  },
  {
   "cell_type": "code",
   "execution_count": 86,
   "metadata": {
    "colab": {
     "base_uri": "https://localhost:8080/"
    },
    "executionInfo": {
     "elapsed": 7,
     "status": "ok",
     "timestamp": 1741449949724,
     "user": {
      "displayName": "Semih Özdemir",
      "userId": "11849008402036696319"
     },
     "user_tz": -180
    },
    "id": "OHjdxc6ZM5ya",
    "outputId": "5e323e34-311a-49fb-f0c0-ba7c55d5c26c"
   },
   "outputs": [
    {
     "name": "stdout",
     "output_type": "stream",
     "text": [
      "Sayının karesi: 9, küpü: 27\n"
     ]
    }
   ],
   "source": [
    "# 5. Birden Fazla Değer Döndüren Fonksiyon\n",
    "def hesapla(sayi):\n",
    "    kare = sayi ** 2\n",
    "    kup = sayi ** 3\n",
    "    return kare, kup\n",
    "\n",
    "kare, kup = hesapla(3)\n",
    "print(f\"Sayının karesi: {kare}, küpü: {kup}\")"
   ]
  },
  {
   "cell_type": "markdown",
   "metadata": {
    "id": "33DuwZWCM5yb"
   },
   "source": [
    "<a id=\"8-moduller-ve-kutuphaneler\"></a>\n",
    "## 📌 8. Modüller ve Kütüphaneler\n",
    "- **Modül İçe Aktarma:** `import`, `from ... import`  "
   ]
  },
  {
   "cell_type": "markdown",
   "metadata": {
    "id": "TtIOc4SrM5yb"
   },
   "source": [
    "Sisteme daha önce yüklenmemiş bir kütüphane \"!pip install kütüphane_adi\" ile yüklenir (Bu jupyter notebook içindir.) Eğer Terminal de bu işlem yapılacaksa ! belirtecine gerek kalmaz."
   ]
  },
  {
   "cell_type": "markdown",
   "metadata": {
    "id": "Uwjo0TZFcxfq"
   },
   "source": [
    "Modüller(Modules): Belirli görevleri yerine getiren hazır kod parçalarıdır. Bir modül, içinde fonksiyonlar, sınıflar ve değişkenler barındıran bir Python dosyasıdır. Modüller, kod tekrarını azaltır ve yazılım geliştirmeyi kolaylaştırır."
   ]
  },
  {
   "cell_type": "markdown",
   "metadata": {
    "id": "TIpppSrNd9kk"
   },
   "source": [
    "Kütüphaneler(Libraries): Birden fazla modülün bir araya gelmesiyle oluşan daha büyük yapıdır. Python'da birçok yerleşik kütüphane bulunur ve ayrıca harici kütüphaneler de kullanılabilir."
   ]
  },
  {
   "cell_type": "code",
   "execution_count": 87,
   "metadata": {
    "colab": {
     "base_uri": "https://localhost:8080/"
    },
    "executionInfo": {
     "elapsed": 3084,
     "status": "ok",
     "timestamp": 1741449952808,
     "user": {
      "displayName": "Semih Özdemir",
      "userId": "11849008402036696319"
     },
     "user_tz": -180
    },
    "id": "HgsWVDAbM5yb",
    "outputId": "c6467f07-157a-4b24-d05c-79336ff6834c"
   },
   "outputs": [
    {
     "name": "stdout",
     "output_type": "stream",
     "text": [
      "Requirement already satisfied: numpy in /usr/local/lib/python3.11/dist-packages (1.26.4)\n"
     ]
    }
   ],
   "source": [
    "!pip install numpy"
   ]
  },
  {
   "cell_type": "code",
   "execution_count": 93,
   "metadata": {
    "colab": {
     "base_uri": "https://localhost:8080/"
    },
    "executionInfo": {
     "elapsed": 13067,
     "status": "ok",
     "timestamp": 1741450175790,
     "user": {
      "displayName": "Semih Özdemir",
      "userId": "11849008402036696319"
     },
     "user_tz": -180
    },
    "id": "M19kFQqZe0M9",
    "outputId": "1a882e9a-f5fb-4c1f-ef82-b4ac8756e4fc"
   },
   "outputs": [
    {
     "name": "stdout",
     "output_type": "stream",
     "text": [
      "Found existing installation: numpy 1.26.4\n",
      "Uninstalling numpy-1.26.4:\n",
      "  Would remove:\n",
      "    /usr/local/bin/f2py\n",
      "    /usr/local/lib/python3.11/dist-packages/numpy-1.26.4.dist-info/*\n",
      "    /usr/local/lib/python3.11/dist-packages/numpy.libs/libgfortran-040039e1.so.5.0.0\n",
      "    /usr/local/lib/python3.11/dist-packages/numpy.libs/libopenblas64_p-r0-0cf96a72.3.23.dev.so\n",
      "    /usr/local/lib/python3.11/dist-packages/numpy.libs/libquadmath-96973f99.so.0.0.0\n",
      "    /usr/local/lib/python3.11/dist-packages/numpy/*\n",
      "Proceed (Y/n)? Y\n",
      "  Successfully uninstalled numpy-1.26.4\n"
     ]
    }
   ],
   "source": [
    "!pip uninstall numpy"
   ]
  },
  {
   "cell_type": "code",
   "execution_count": 94,
   "metadata": {
    "colab": {
     "base_uri": "https://localhost:8080/"
    },
    "executionInfo": {
     "elapsed": 11780,
     "status": "ok",
     "timestamp": 1741450195627,
     "user": {
      "displayName": "Semih Özdemir",
      "userId": "11849008402036696319"
     },
     "user_tz": -180
    },
    "id": "2VaHt3xDeqQ-",
    "outputId": "a7fff2ad-2b57-4fef-b700-c93754b4d216"
   },
   "outputs": [
    {
     "name": "stdout",
     "output_type": "stream",
     "text": [
      "Collecting numpy==2.2\n",
      "  Downloading numpy-2.2.0-cp311-cp311-manylinux_2_17_x86_64.manylinux2014_x86_64.whl.metadata (62 kB)\n",
      "\u001b[2K     \u001b[90m━━━━━━━━━━━━━━━━━━━━━━━━━━━━━━━━━━━━━━━━\u001b[0m \u001b[32m62.0/62.0 kB\u001b[0m \u001b[31m1.7 MB/s\u001b[0m eta \u001b[36m0:00:00\u001b[0m\n",
      "\u001b[?25hDownloading numpy-2.2.0-cp311-cp311-manylinux_2_17_x86_64.manylinux2014_x86_64.whl (16.4 MB)\n",
      "\u001b[2K   \u001b[90m━━━━━━━━━━━━━━━━━━━━━━━━━━━━━━━━━━━━━━━━\u001b[0m \u001b[32m16.4/16.4 MB\u001b[0m \u001b[31m6.6 MB/s\u001b[0m eta \u001b[36m0:00:00\u001b[0m\n",
      "\u001b[?25hInstalling collected packages: numpy\n",
      "\u001b[31mERROR: pip's dependency resolver does not currently take into account all the packages that are installed. This behaviour is the source of the following dependency conflicts.\n",
      "gensim 4.3.3 requires numpy<2.0,>=1.18.5, but you have numpy 2.2.0 which is incompatible.\n",
      "tensorflow 2.18.0 requires numpy<2.1.0,>=1.26.0, but you have numpy 2.2.0 which is incompatible.\n",
      "numba 0.60.0 requires numpy<2.1,>=1.22, but you have numpy 2.2.0 which is incompatible.\n",
      "langchain 0.3.19 requires numpy<2,>=1.26.4; python_version < \"3.12\", but you have numpy 2.2.0 which is incompatible.\n",
      "thinc 8.2.5 requires numpy<2.0.0,>=1.19.0; python_version >= \"3.9\", but you have numpy 2.2.0 which is incompatible.\n",
      "pytensor 2.27.1 requires numpy<2,>=1.17.0, but you have numpy 2.2.0 which is incompatible.\u001b[0m\u001b[31m\n",
      "\u001b[0mSuccessfully installed numpy-2.2.0\n"
     ]
    }
   ],
   "source": [
    "!pip install numpy==2.2"
   ]
  },
  {
   "cell_type": "code",
   "execution_count": 90,
   "metadata": {
    "executionInfo": {
     "elapsed": 9,
     "status": "ok",
     "timestamp": 1741450159923,
     "user": {
      "displayName": "Semih Özdemir",
      "userId": "11849008402036696319"
     },
     "user_tz": -180
    },
    "id": "mP71zHy8M5yb"
   },
   "outputs": [],
   "source": [
    "import numpy as np"
   ]
  },
  {
   "cell_type": "markdown",
   "metadata": {
    "id": "BUJ_b__mfAu0"
   },
   "source": [
    "Yukarıdaki ifade tüm kütüphaneyi yükler."
   ]
  },
  {
   "cell_type": "code",
   "execution_count": 91,
   "metadata": {
    "executionInfo": {
     "elapsed": 0,
     "status": "ok",
     "timestamp": 1741450159925,
     "user": {
      "displayName": "Semih Özdemir",
      "userId": "11849008402036696319"
     },
     "user_tz": -180
    },
    "id": "olSgyKBlM5yb"
   },
   "outputs": [],
   "source": [
    "from math import sqrt"
   ]
  },
  {
   "cell_type": "markdown",
   "metadata": {
    "id": "JiMaEfEmfKHc"
   },
   "source": [
    "Yukarıdaki yöntem, bir modülden belirli fonksiyonları veya değişkenleri içe aktarır ve modül adı olmadan doğrudan kullanım olanağı sağlar."
   ]
  },
  {
   "cell_type": "code",
   "execution_count": 92,
   "metadata": {
    "executionInfo": {
     "elapsed": 1077,
     "status": "ok",
     "timestamp": 1741450161003,
     "user": {
      "displayName": "Semih Özdemir",
      "userId": "11849008402036696319"
     },
     "user_tz": -180
    },
    "id": "vEGE7Z3YfoHr"
   },
   "outputs": [],
   "source": [
    "from sklearn.model_selection import train_test_split"
   ]
  },
  {
   "cell_type": "markdown",
   "metadata": {
    "id": "O9RN-c7DfxJl"
   },
   "source": [
    "Bazı kütüphaneler \"noktalı\" (dotted) şekilde yazılmasının nedeni, o kütüphanenin alt modüllere (submodules) sahip olmasıdır."
   ]
  },
  {
   "cell_type": "markdown",
   "metadata": {
    "id": "7VwbXbUqNsT8"
   },
   "source": [
    "## 📚 Standart Kütüphane Modülleri\n",
    "\n",
    "### Temel İşlemler\n",
    "\n",
    "| Modül     | Açıklama                                     |\n",
    "|------------|----------------------------------------------|\n",
    "| math      | Matematiksel işlemler ve sabitler           |\n",
    "| random    | Rastgele sayı üretme ve seçim               |\n",
    "| datetime  | Tarih ve zaman işlemleri                     |\n",
    "| os        | Dosya ve dizin işlemleri                    |\n",
    "| sys       | Sistem ayarları ve parametreleri            |\n",
    "| json      | JSON veri formatı işlemleri                |\n",
    "| csv       | CSV dosya işlemleri                         |\n",
    "| collections | Özel veri yapıları                          |\n",
    "\n",
    "\n",
    "## 📊 Veri Bilimi Kütüphaneleri\n",
    "\n",
    "### Temel Analiz\n",
    "\n",
    "| Kütüphane  | Açıklama                                     |\n",
    "|-------------|----------------------------------------------|\n",
    "| numpy      | Sayısal işlemler ve çok boyutlu diziler     |\n",
    "| pandas     | Veri analizi ve manipülasyonu              |\n",
    "| scipy      | İleri düzey bilimsel hesaplamalar           |\n",
    "\n",
    "### Görselleştirme\n",
    "\n",
    "| Kütüphane  | Açıklama                                     |\n",
    "|-------------|----------------------------------------------|\n",
    "| matplotlib  | Temel grafik çizimi                          |\n",
    "| seaborn    | İstatistiksel veri görselleştirme          |\n",
    "| plotly     | Etkileşimli grafikler                        |\n",
    "| bokeh      | Web tabanlı görselleştirme                     |\n",
    "\n",
    "\n",
    "## 🤖 Yapay Zeka ve Makine Öğrenmesi\n",
    "\n",
    "### ML Kütüphaneleri\n",
    "\n",
    "| Kütüphane  | Açıklama                                     |\n",
    "|-------------|----------------------------------------------|\n",
    "| scikit-learn | Klasik makine öğrenmesi                     |\n",
    "| tensorflow  | Derin öğrenme                               |\n",
    "| pytorch    | Derin öğrenme                               |\n",
    "| keras      | Yüksek seviye derin öğrenme API'si            |\n",
    "| xgboost    | Gradyan artırma                            |\n",
    "\n",
    "\n",
    "## 🔧 Veri Mühendisliği\n",
    "\n",
    "### Büyük Veri\n",
    "\n",
    "| Kütüphane  | Açıklama                                     |\n",
    "|-------------|----------------------------------------------|\n",
    "| pyspark    | Apache Spark entegrasyonu                    |\n",
    "| dask       | Paralel hesaplama                           |\n",
    "| vaex       | Büyük veri görselleştirme                    |\n",
    "\n",
    "### Veritabanı\n",
    "\n",
    "| Kütüphane  | Açıklama                                     |\n",
    "|-------------|----------------------------------------------|\n",
    "| sqlalchemy  | SQL veritabanı ORM                           |\n",
    "| pymongo    | MongoDB bağlantısı                          |\n",
    "| psycopg2   | PostgreSQL bağlantısı                        |\n",
    "| redis      | Redis bağlantısı                            |\n",
    "\n",
    "### ETL ve İş Akışı\n",
    "\n",
    "| Kütüphane     | Açıklama                                     |\n",
    "|----------------|----------------------------------------------|\n",
    "| apache-airflow | İş akışı otomasyonu                         |\n",
    "| luigi         | Veri pipeline yönetimi                      |\n",
    "| prefect        | Modern iş akışı yönetimi                     |\n",
    "\n",
    "\n",
    "## 🌐 Web Geliştirme\n",
    "\n",
    "### Web Frameworks\n",
    "\n",
    "| Framework  | Açıklama                                     |\n",
    "|-------------|----------------------------------------------|\n",
    "| django     | Tam kapsamlı web framework                  |\n",
    "| flask      | Mikro web framework                         |\n",
    "| fastapi    | Modern ve hızlı API geliştirme              |\n",
    "\n",
    "\n",
    "## ⚠️ Önemli Notlar\n",
    "\n",
    "- Modüller Python'un paket yöneticisi pip ile kurulur.\n",
    "- Sanal ortamlar (venv) ile proje bağımlılıkları yönetilir.\n",
    "- requirements.txt ile paket versiyonları kontrol edilir.\n",
    "- Özel modüller .py uzantılı dosyalarda tanımlanır.\n",
    "- Her modül belirli bir amaca hizmet eder, ihtiyaca göre seçilmeli."
   ]
  },
  {
   "cell_type": "markdown",
   "metadata": {},
   "source": [
    "# Python Öğrenme Kaynakları\n",
    "\n",
    "Bu notebook, Python programlama dilinin temel kavramlarını 2 saatlik bir sürede aktarmayı hedeflemektedir. Ancak süre kısıtı nedeniyle bazı önemli konular kapsam dışı bırakılmıştır. Notebook'ta bulunmayan önemli konular şunlardır:\n",
    "\n",
    "1. Hata Yönetimi (Try-Except)\n",
    "2. Dosya İşlemleri\n",
    "3. String ve Liste Metodları\n",
    "4. Nesne Yönelimli Programlama (OOP)\n",
    "5. Decorators\n",
    "6. List/Dict/Set Comprehension\n",
    "7. Lambda Fonksiyonları\n",
    "8. Regular Expressions (Regex)\n",
    "9. Virtual Environments\n",
    "10. File I/O Operations\n",
    "\n",
    "## Önerilen Kaynaklar\n",
    "\n",
    "Bu konuları öğrenmek için aşağıdaki kaynaklardan faydalanabilirsiniz:\n",
    "\n",
    "1. **Resmi Python Dokümantasyonu**: https://docs.python.org/3/\n",
    "2. **W3Schools Python Eğitimi**: https://www.w3schools.com/python/\n",
    "3. **Real Python**: https://realpython.com/\n",
    "4. **Python Programlama**: https://python-istihza.yazbel.com/\n",
    "5. **BTK Akademi Python Eğitimleri**: https://www.btkakademi.gov.tr/portal/course/sifirdan-ileri-seviye-python-programlama-5877\n",
    "\n",
    "Bu kaynaklar ücretsiz olup, detaylı ve kapsamlı Python eğitimi sunmaktadır. Özellikle Türkçe kaynak olarak 'Python Programlama' ve BTK Akademi'nin eğitimleri başlangıç için oldukça faydalı olacaktır."
   ]
  }
 ],
 "metadata": {
  "colab": {
   "provenance": []
  },
  "kernelspec": {
   "display_name": "base",
   "language": "python",
   "name": "python3"
  },
  "language_info": {
   "codemirror_mode": {
    "name": "ipython",
    "version": 3
   },
   "file_extension": ".py",
   "mimetype": "text/x-python",
   "name": "python",
   "nbconvert_exporter": "python",
   "pygments_lexer": "ipython3",
   "version": "3.12.7"
  }
 },
 "nbformat": 4,
 "nbformat_minor": 0
}
